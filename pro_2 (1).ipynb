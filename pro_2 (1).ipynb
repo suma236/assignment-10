{
  "nbformat": 4,
  "nbformat_minor": 0,
  "metadata": {
    "colab": {
      "name": "pro 2.ipynb",
      "provenance": []
    },
    "kernelspec": {
      "name": "python3",
      "display_name": "Python 3"
    }
  },
  "cells": [
    {
      "cell_type": "code",
      "metadata": {
        "id": "GKy2R9cDrruq",
        "colab_type": "code",
        "colab": {
          "base_uri": "https://localhost:8080/",
          "height": 34
        },
        "outputId": "55f71d60-e4a2-4184-d79d-1590fb4ca27b"
      },
      "source": [
        "color=['red','green','white','black','pink','yellow']\n",
        "color=[x for (i,x) in enumerate(color) if  i not in (0,4,5)]\n",
        "print(color)"
      ],
      "execution_count": 1,
      "outputs": [
        {
          "output_type": "stream",
          "text": [
            "['green', 'white', 'black']\n"
          ],
          "name": "stdout"
        }
      ]
    }
  ]
}