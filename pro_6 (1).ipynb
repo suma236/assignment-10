{
  "nbformat": 4,
  "nbformat_minor": 0,
  "metadata": {
    "colab": {
      "name": "pro 6.ipynb",
      "provenance": []
    },
    "kernelspec": {
      "name": "python3",
      "display_name": "Python 3"
    }
  },
  "cells": [
    {
      "cell_type": "code",
      "metadata": {
        "id": "oJOO9-xrs_y2",
        "colab_type": "code",
        "colab": {
          "base_uri": "https://localhost:8080/",
          "height": 34
        },
        "outputId": "6f397182-c54c-4348-e4cf-a08be181c093"
      },
      "source": [
        "def up_low(string):\n",
        "    uppers=0\n",
        "    lowers=0\n",
        "    for char in string:\n",
        "        if char.islower():\n",
        "            lowers+=1\n",
        "        elif char.isupper():\n",
        "            uppers+=1\n",
        "        else:\n",
        "            pass\n",
        "    return(uppers,lowers)\n",
        "print(up_low(\"hello mr.rogers,how are you this fine tuesday?\"))"
      ],
      "execution_count": 1,
      "outputs": [
        {
          "output_type": "stream",
          "text": [
            "(0, 37)\n"
          ],
          "name": "stdout"
        }
      ]
    }
  ]
}