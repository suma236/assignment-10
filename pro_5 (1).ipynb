{
  "nbformat": 4,
  "nbformat_minor": 0,
  "metadata": {
    "colab": {
      "name": "pro 5.ipynb",
      "provenance": []
    },
    "kernelspec": {
      "name": "python3",
      "display_name": "Python 3"
    }
  },
  "cells": [
    {
      "cell_type": "code",
      "metadata": {
        "id": "eZu_CoXqsniz",
        "colab_type": "code",
        "colab": {
          "base_uri": "https://localhost:8080/",
          "height": 34
        },
        "outputId": "3c897d5b-af3d-4ae2-ebfc-6213c94d038d"
      },
      "source": [
        "def unique_list(l):\n",
        "    x=[]\n",
        "    for a in l:\n",
        "        if a not in x:\n",
        "            x.append(a)\n",
        "        return x\n",
        "print(unique_list([1,2,3,3,3,3,4,5]))"
      ],
      "execution_count": 1,
      "outputs": [
        {
          "output_type": "stream",
          "text": [
            "[1]\n"
          ],
          "name": "stdout"
        }
      ]
    }
  ]
}