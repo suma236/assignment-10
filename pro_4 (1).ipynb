{
  "nbformat": 4,
  "nbformat_minor": 0,
  "metadata": {
    "colab": {
      "name": "pro 4.ipynb",
      "provenance": []
    },
    "kernelspec": {
      "name": "python3",
      "display_name": "Python 3"
    }
  },
  "cells": [
    {
      "cell_type": "code",
      "metadata": {
        "id": "3fAXqyJrsPWd",
        "colab_type": "code",
        "colab": {
          "base_uri": "https://localhost:8080/",
          "height": 34
        },
        "outputId": "e0318576-a16a-42ac-918b-a8f080700c65"
      },
      "source": [
        "def test_range(n):\n",
        "    if n in range(3,9):\n",
        "        print(\"%s is in the range\"%str(n))\n",
        "    else:\n",
        "        print(\"the number is outside the given range\")\n",
        "test_range(5)"
      ],
      "execution_count": 1,
      "outputs": [
        {
          "output_type": "stream",
          "text": [
            "5 is in the range\n"
          ],
          "name": "stdout"
        }
      ]
    }
  ]
}