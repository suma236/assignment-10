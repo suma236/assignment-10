{
  "nbformat": 4,
  "nbformat_minor": 0,
  "metadata": {
    "colab": {
      "name": "pro 3.ipynb",
      "provenance": []
    },
    "kernelspec": {
      "name": "python3",
      "display_name": "Python 3"
    }
  },
  "cells": [
    {
      "cell_type": "code",
      "metadata": {
        "id": "Osgq5i8Ur8dh",
        "colab_type": "code",
        "colab": {
          "base_uri": "https://localhost:8080/",
          "height": 50
        },
        "outputId": "1578a4eb-35d3-4723-9a88-04cdaa70a740"
      },
      "source": [
        "def cloning(li1):\n",
        "    li_copy=li1[:]\n",
        "    return li_copy\n",
        "li1=[4,8,2,10,15,18]\n",
        "li2=cloning(li1)\n",
        "print(\"original list:\",li1)\n",
        "print(\"after cloning:\",li2)"
      ],
      "execution_count": 1,
      "outputs": [
        {
          "output_type": "stream",
          "text": [
            "original list: [4, 8, 2, 10, 15, 18]\n",
            "after cloning: [4, 8, 2, 10, 15, 18]\n"
          ],
          "name": "stdout"
        }
      ]
    }
  ]
}